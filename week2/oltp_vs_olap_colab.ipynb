{
  "nbformat": 4,
  "nbformat_minor": 0,
  "metadata": {
    "colab": {
      "provenance": []
    },
    "kernelspec": {
      "name": "python3",
      "display_name": "Python 3"
    },
    "language_info": {
      "name": "python"
    }
  },
  "cells": [
    {
      "cell_type": "code",
      "execution_count": null,
      "metadata": {
        "id": "J39o28v_0gVZ"
      },
      "outputs": [],
      "source": [
        "from pathlib import Path\n",
        "import os\n",
        "import pandas as pd\n",
        "import numpy as np\n",
        "import time\n",
        "\n",
        "import sqlite3 # database for OLTP\n",
        "import duckdb  # database for OLAP"
      ]
    },
    {
      "cell_type": "code",
      "source": [
        "print(\"sqlite3 :\", sqlite3.sqlite_version)\n",
        "print(\"duckdb :\", duckdb.__version__)"
      ],
      "metadata": {
        "id": "VlY3EWLq0tOq"
      },
      "execution_count": null,
      "outputs": []
    },
    {
      "cell_type": "code",
      "source": [
        "# fixed seed\n",
        "np.random.seed(1)\n",
        "\n",
        "# scale\n",
        "N = 2_000_000\n",
        "users = 10_000\n",
        "products = 1_000"
      ],
      "metadata": {
        "id": "MA_nKC0I0uL3"
      },
      "execution_count": null,
      "outputs": []
    },
    {
      "cell_type": "code",
      "source": [
        "# sales sample\n",
        "df = pd.DataFrame({\n",
        "    \"id\"         : np.arange(N, dtype = np.int64),\n",
        "    \"user_id\"    : np.random.randint(1, users + 1, size = N, dtype = np.int32),\n",
        "    \"product_id\" : np.random.randint(1, products + 1, size = N, dtype = np.int32),\n",
        "    \"price\"      : np.random.randint(100, 10000, size = N, dtype = np.int32),\n",
        "    \"quantity\"   : np.random.randint(1, 6, size = N, dtype = np.int16),\n",
        "    \"timestamp\"  : pd.to_datetime(\"2024-01-01\") + pd.to_timedelta(np.random.randint(0, 60*60*24*30, size=N), unit=\"s\")\n",
        "})"
      ],
      "metadata": {
        "id": "ma5NX4FFHJV9"
      },
      "execution_count": null,
      "outputs": []
    },
    {
      "cell_type": "code",
      "source": [
        "# product sample\n",
        "prod = pd.DataFrame({\n",
        "    \"product_id\" : np.arange(1, products + 1, dtype = np.int32),\n",
        "    \"category\"   : np.random.randint(1, 21, size = products, dtype = np.int16)\n",
        "})"
      ],
      "metadata": {
        "id": "hWnFJTH717xN"
      },
      "execution_count": null,
      "outputs": []
    },
    {
      "cell_type": "code",
      "source": [
        "Path(\"data\").mkdir(exist_ok = True)\n",
        "\n",
        "# save data\n",
        "df.to_parquet(\"data/sales.parquet\")\n",
        "prod.to_parquet(\"data/products.parquet\")\n",
        "\n",
        "len(df), len(prod), \"saved to data/*.parquet\""
      ],
      "metadata": {
        "id": "mZVeV9tO19WA"
      },
      "execution_count": null,
      "outputs": []
    },
    {
      "cell_type": "code",
      "source": [
        "# sqlite3 setting\n",
        "\n",
        "sqlite_path = \"data/sales.db\"\n",
        "\n",
        "if os.path.exists(sqlite_path) : os.remove(sqlite_path)\n",
        "\n",
        "conn_sqlite = sqlite3.connect(sqlite_path)\n",
        "df.to_sql(\"sales\", conn_sqlite, if_exists = \"replace\", index = False)\n",
        "prod.to_sql(\"products\", conn_sqlite, if_exists = \"replace\", index = False)\n",
        "\n",
        "# index\n",
        "cur = conn_sqlite.cursor()\n",
        "cur.execute(\"CREATE INDEX idx_sales_id ON sales(id);\")\n",
        "cur.execute(\"CREATE INDEX idx_sales_user ON sales(user_id);\")\n",
        "cur.execute(\"CREATE INDEX idx_sales_product ON sales(product_id);\")\n",
        "cur.execute(\"CREATE INDEX idx_prod_id ON products(product_id);\")\n",
        "conn_sqlite.commit()\n",
        "\n",
        "# check\n",
        "cur.execute(\"SELECT count(*) FROM sales;\")\n",
        "print(\"SQLite sales rows : \", cur.fetchone()[0])\n",
        "cur.execute(\"SELECT count(*) FROM products;\")\n",
        "print(\"SQLite products rows : \", cur.fetchone()[0])"
      ],
      "metadata": {
        "id": "L5Mlvgjy1-1E"
      },
      "execution_count": null,
      "outputs": []
    },
    {
      "cell_type": "code",
      "source": [
        "# duck_db setting\n",
        "\n",
        "conn_duck = duckdb.connect()\n",
        "\n",
        "conn_duck.execute(\"\"\"\n",
        "CREATE OR REPLACE TABLE sales AS SELECT * FROM read_parquet('data/sales.parquet');\n",
        "\"\"\")\n",
        "conn_duck.execute(\"\"\"\n",
        "CREATE OR REPLACE TABLE products AS SELECT * FROM read_parquet('data/products.parquet');\n",
        "\"\"\")\n",
        "\n",
        "# check\n",
        "print(\"DuckDB sales rows:\", conn_duck.execute(\"SELECT COUNT(*) FROM sales;\").fetchone()[0])\n",
        "print(\"DuckDB products rows:\", conn_duck.execute(\"SELECT COUNT(*) FROM products;\").fetchone()[0])"
      ],
      "metadata": {
        "id": "H_UgUR8g2ACW"
      },
      "execution_count": null,
      "outputs": []
    },
    {
      "cell_type": "code",
      "source": [
        "def run_sqlite (query, fetch = 5) :\n",
        "    t0 = time.perf_counter()      # time start\n",
        "    cur = conn_sqlite.cursor()\n",
        "    cur.execute(query)\n",
        "    rows = cur.fetchall()\n",
        "    dt = time.perf_counter() - t0 # time end\n",
        "    return dt, rows[:fetch]\n",
        "\n",
        "def run_duck (query, fetch = 5) :\n",
        "    t0 = time.perf_counter()      # time start\n",
        "    rows = conn_duck.execute(query).fetchall()\n",
        "    dt = time.perf_counter() - t0 # time end\n",
        "    return dt, rows[:fetch]\n",
        "\n",
        "def compare (title, q_sqlite, q_duck = None, fetch = 5) :\n",
        "    if q_duck is None : q_duck = q_sqlite  # same query\n",
        "\n",
        "    dt_s, head_s = run_sqlite(q_sqlite, fetch)\n",
        "    dt_d, head_d = run_duck(q_duck, fetch)\n",
        "\n",
        "    print(f\"\\n=== {title} ===\")\n",
        "    print(f\"SQLite : {dt_s:.3f}s  | sample : {head_s[:2]}\")\n",
        "    print(f\"DuckDB : {dt_d:.3f}s  | sample : {head_d[:2]}\")"
      ],
      "metadata": {
        "id": "7Da-Uhvb2DMl"
      },
      "execution_count": null,
      "outputs": []
    },
    {
      "cell_type": "code",
      "source": [
        "# Task 1\n",
        "# 단순 검색\n",
        "\n",
        "q1 = \"SELECT * FROM sales WHERE id = 123456;\"\n",
        "compare(\"OLTP : 단순 키 조회 (id)\", q1)"
      ],
      "metadata": {
        "id": "Z6dBplom2FJy"
      },
      "execution_count": null,
      "outputs": []
    },
    {
      "cell_type": "code",
      "source": [
        "# Task 2\n",
        "# 좁은 범위 탐색\n",
        "\n",
        "q2 = \"\"\"\n",
        "SELECT * FROM sales\n",
        "WHERE user_id = 777\n",
        "ORDER BY timestamp DESC\n",
        "LIMIT 50;\n",
        "\"\"\"\n",
        "compare(\"OLTP : 좁은 범위 조회 (user_id)\", q2)"
      ],
      "metadata": {
        "id": "ov0KL_Md2Irz"
      },
      "execution_count": null,
      "outputs": []
    },
    {
      "cell_type": "code",
      "source": [
        "# Task 3\n",
        "# 제품별 매출, 상위 10개\n",
        "# Group\n",
        "\n",
        "q3 = \"\"\"\n",
        "SELECT product_id, SUM(price*quantity) AS total_sales\n",
        "FROM sales\n",
        "GROUP BY product_id\n",
        "ORDER BY total_sales DESC\n",
        "LIMIT 10;\n",
        "\"\"\"\n",
        "compare(\"OLAP : 제품별 총 매출 TOP10\", q3)"
      ],
      "metadata": {
        "id": "lAOi56-02LoU"
      },
      "execution_count": null,
      "outputs": []
    },
    {
      "cell_type": "code",
      "source": [
        "# Task 4\n",
        "# 일자별 매출 집계\n",
        "\n",
        "q4_sqlite = \"\"\"\n",
        "SELECT strftime('%Y-%m-%d', timestamp) AS d, SUM(price*quantity) AS revenue\n",
        "FROM sales\n",
        "GROUP BY d\n",
        "ORDER BY d\n",
        "LIMIT 30;\n",
        "\"\"\"\n",
        "\n",
        "# DuckDB는 date_trunc → cast\n",
        "q4_duck = \"\"\"\n",
        "SELECT CAST(date_trunc('day', timestamp) AS DATE) AS d, SUM(price*quantity) AS revenue\n",
        "FROM sales\n",
        "GROUP BY d\n",
        "ORDER BY d\n",
        "LIMIT 30;\n",
        "\"\"\"\n",
        "compare(\"OLAP : 일자별 매출 집계\", q4_sqlite, q4_duck)"
      ],
      "metadata": {
        "id": "rX5jAgQ42M43"
      },
      "execution_count": null,
      "outputs": []
    },
    {
      "cell_type": "code",
      "source": [
        "# Task 5\n",
        "# 카테고리별 매출, 상위 5개\n",
        "# Join\n",
        "\n",
        "q5 = \"\"\"\n",
        "SELECT p.category, SUM(s.price*s.quantity) AS total_sales\n",
        "FROM sales s\n",
        "JOIN products p ON s.product_id = p.product_id\n",
        "GROUP BY p.category\n",
        "ORDER BY total_sales DESC\n",
        "LIMIT 5;\n",
        "\"\"\"\n",
        "compare(\"OLAP : 카테고리별 매출 TOP5\", q5)"
      ],
      "metadata": {
        "id": "ktiiJv8e2Osr"
      },
      "execution_count": null,
      "outputs": []
    },
    {
      "cell_type": "code",
      "source": [
        "# Task 6\n",
        "# 사용자 별 매출, 상위 5개\n",
        "# Group\n",
        "\n",
        "q6 = \"\"\"\n",
        "SELECT user_id, SUM(price*quantity) AS total_spend, COUNT(*) AS cnt\n",
        "FROM sales\n",
        "GROUP BY user_id\n",
        "ORDER BY total_spend DESC\n",
        "LIMIT 10;\n",
        "\"\"\"\n",
        "compare(\"OLAP : 사용자별 매출 TOP10\", q6)"
      ],
      "metadata": {
        "id": "Bfz38fDo2QhO"
      },
      "execution_count": null,
      "outputs": []
    }
  ]
}