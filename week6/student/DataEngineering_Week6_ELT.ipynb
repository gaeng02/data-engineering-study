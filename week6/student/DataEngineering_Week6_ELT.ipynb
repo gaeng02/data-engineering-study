{
  "nbformat": 4,
  "nbformat_minor": 0,
  "metadata": {
    "colab": {
      "provenance": []
    },
    "kernelspec": {
      "name": "python3",
      "display_name": "Python 3"
    },
    "language_info": {
      "name": "python"
    }
  },
  "cells": [
    {
      "cell_type": "markdown",
      "source": [
        "# ELT\n",
        "\n",
        "Data Engineering Week 6 <br>\n",
        "ETL/ELT 실습"
      ],
      "metadata": {
        "id": "H0OCQmkQEhyY"
      }
    },
    {
      "cell_type": "markdown",
      "source": [
        "초기 설정은 다음과 같이 해주세요!"
      ],
      "metadata": {
        "id": "I-oUqg_NEhL1"
      }
    },
    {
      "cell_type": "code",
      "source": [
        "# 한글말고 영어로 본인의 닉네임을 정해주세요!\n",
        "name = \"nickname\""
      ],
      "metadata": {
        "id": "0cZlHWV4EunF"
      },
      "execution_count": 1,
      "outputs": []
    },
    {
      "cell_type": "markdown",
      "source": [
        "하단의 링크는 간단한 웹 페이지 입니다.<br>\n",
        "http://43.200.129.41:8000/  <br>"
      ],
      "metadata": {
        "id": "y0iaS1CgE4rG"
      }
    },
    {
      "cell_type": "markdown",
      "source": [
        "대부분의 event를 발생시키면, log가 발생합니다. <br>\n",
        "하단의 코드를 실행하면 지금까지의 log를 확인할 수 있습니다."
      ],
      "metadata": {
        "id": "B5q6b4yLFU8t"
      }
    },
    {
      "cell_type": "code",
      "source": [
        "import requests, json\n",
        "response = requests.get('http://43.200.129.41:8000/logs', params={\"caller_name\": name})\n",
        "logs = json.dumps(response.json(), indent=2, ensure_ascii=False)\n",
        "\n",
        "print(logs)"
      ],
      "metadata": {
        "id": "Ugi74sp1mjDy",
        "colab": {
          "base_uri": "https://localhost:8080/"
        },
        "collapsed": true,
        "outputId": "eafeb045-ca1a-45e4-ee61-9951753c78e8"
      },
      "execution_count": 4,
      "outputs": [
        {
          "output_type": "stream",
          "name": "stdout",
          "text": [
            "[\n",
            "  {\n",
            "    \"id\": 6,\n",
            "    \"user_id\": 1,\n",
            "    \"post_id\": null,\n",
            "    \"action\": \"page_view\",\n",
            "    \"details\": \"Viewed page: home\",\n",
            "    \"user_agent\": \"Mozilla/5.0 (Macintosh; Intel Mac OS X 10_15_7) AppleWebKit/537.36 (KHTML, like Gecko) Chrome/141.0.0.0 Safari/537.36\",\n",
            "    \"timestamp\": \"2025-10-28T09:09:50.197236\"\n",
            "  },\n",
            "  {\n",
            "    \"id\": 5,\n",
            "    \"user_id\": 1,\n",
            "    \"post_id\": null,\n",
            "    \"action\": \"page_view\",\n",
            "    \"details\": \"Viewed page: home\",\n",
            "    \"user_agent\": \"Mozilla/5.0 (Macintosh; Intel Mac OS X 10_15_7) AppleWebKit/537.36 (KHTML, like Gecko) Chrome/141.0.0.0 Safari/537.36\",\n",
            "    \"timestamp\": \"2025-10-28T09:09:32.522611\"\n",
            "  },\n",
            "  {\n",
            "    \"id\": 4,\n",
            "    \"user_id\": 1,\n",
            "    \"post_id\": null,\n",
            "    \"action\": \"page_view\",\n",
            "    \"details\": \"Viewed page: home\",\n",
            "    \"user_agent\": \"Mozilla/5.0 (Macintosh; Intel Mac OS X 10_15_7) AppleWebKit/537.36 (KHTML, like Gecko) Chrome/141.0.0.0 Safari/537.36\",\n",
            "    \"timestamp\": \"2025-10-28T09:09:29.184600\"\n",
            "  },\n",
            "  {\n",
            "    \"id\": 3,\n",
            "    \"user_id\": 1,\n",
            "    \"post_id\": null,\n",
            "    \"action\": \"page_view\",\n",
            "    \"details\": \"Viewed page: home\",\n",
            "    \"user_agent\": \"Mozilla/5.0 (Macintosh; Intel Mac OS X 10_15_7) AppleWebKit/537.36 (KHTML, like Gecko) Chrome/141.0.0.0 Safari/537.36\",\n",
            "    \"timestamp\": \"2025-10-28T09:05:32.376847\"\n",
            "  },\n",
            "  {\n",
            "    \"id\": 2,\n",
            "    \"user_id\": 1,\n",
            "    \"post_id\": null,\n",
            "    \"action\": \"login\",\n",
            "    \"details\": \"User ID 1 logged in\",\n",
            "    \"user_agent\": \"Mozilla/5.0 (Macintosh; Intel Mac OS X 10_15_7) AppleWebKit/537.36 (KHTML, like Gecko) Chrome/141.0.0.0 Safari/537.36\",\n",
            "    \"timestamp\": \"2025-10-28T09:05:32.361055\"\n",
            "  },\n",
            "  {\n",
            "    \"id\": 1,\n",
            "    \"user_id\": null,\n",
            "    \"post_id\": null,\n",
            "    \"action\": \"page_view\",\n",
            "    \"details\": \"Viewed page: login\",\n",
            "    \"user_agent\": \"Mozilla/5.0 (Macintosh; Intel Mac OS X 10_15_7) AppleWebKit/537.36 (KHTML, like Gecko) Chrome/141.0.0.0 Safari/537.36\",\n",
            "    \"timestamp\": \"2025-10-28T09:05:28.866965\"\n",
            "  }\n",
            "]\n"
          ]
        }
      ]
    },
    {
      "cell_type": "markdown",
      "source": [
        "만약 필요하다면, 해당 코드를 통해서 접속한 사용자의 닉네임을 확인할 수 있습니다 <br>\n",
        "DB에는 user_id와 nickname이 저장되어있습니다. <br>\n",
        "ex) 1 : gaeng02"
      ],
      "metadata": {
        "id": "Mdg7WChWGAUi"
      }
    },
    {
      "cell_type": "code",
      "source": [
        "response = requests.get('http://43.200.129.41:8000/users', params={\"caller_name\": name})\n",
        "users = json.dumps(response.json(), indent=2, ensure_ascii=False)\n",
        "print(users)"
      ],
      "metadata": {
        "colab": {
          "base_uri": "https://localhost:8080/"
        },
        "id": "yXiu6CgfGNwh",
        "outputId": "ade44946-a1f0-46f2-e364-df361adbb58f"
      },
      "execution_count": 5,
      "outputs": [
        {
          "output_type": "stream",
          "name": "stdout",
          "text": [
            "[\n",
            "  {\n",
            "    \"id\": 1,\n",
            "    \"nickname\": \"gaeng02\",\n",
            "    \"created_at\": \"2025-10-28T09:05:32.352465\"\n",
            "  }\n",
            "]\n"
          ]
        }
      ]
    },
    {
      "cell_type": "markdown",
      "source": [
        "이제 다음과 같은 Task를 수행하면 됩니다."
      ],
      "metadata": {
        "id": "xNscMXblGYX2"
      }
    },
    {
      "cell_type": "markdown",
      "source": [
        "## Task 1. log 확인\n",
        "log안에 어떠한 event에 로그가 발생하는지 확인하세요."
      ],
      "metadata": {
        "id": "jP8HFfqiGcP4"
      }
    },
    {
      "cell_type": "markdown",
      "source": [
        "정답 예시 : event의 종류는 a, b, c, d, e가 있다."
      ],
      "metadata": {
        "id": "O_K2KtFRGwsU"
      }
    },
    {
      "cell_type": "code",
      "source": [],
      "metadata": {
        "id": "htlZM20nGnnX"
      },
      "execution_count": null,
      "outputs": []
    },
    {
      "cell_type": "markdown",
      "source": [
        "## Task 2. 각 사용자의 마지막 접속 시간\n",
        "user db안에는 현재 created_at만 저장되어있는데, last_updated_at에 대해서도 정리하시오."
      ],
      "metadata": {
        "id": "Gb_LWj4kGx_R"
      }
    },
    {
      "cell_type": "code",
      "source": [],
      "metadata": {
        "id": "4RCyCbTMHE62"
      },
      "execution_count": null,
      "outputs": []
    },
    {
      "cell_type": "markdown",
      "source": [
        "## Task 3. 각 사용자의 행동 패턴\n",
        "본인의 행동 패턴만 수집하여 하나의 파일로 정리할 수 있도록 하시오. <br>\n",
        "ex) gaeng02는 user_id가 1 이므로, user_id가 1일 때의 데이터만 모아서 수집할 수 있도록 하시오. <br>"
      ],
      "metadata": {
        "id": "K-69sP59GyFQ"
      }
    },
    {
      "cell_type": "markdown",
      "source": [
        "특정 user_id에 대해서 수집할 수 있도록 코드를 작성하세요."
      ],
      "metadata": {
        "id": "RDpwPP3HHqPC"
      }
    },
    {
      "cell_type": "code",
      "source": [
        "def user_flow (user_id : int) :\n",
        "\n",
        "    return []"
      ],
      "metadata": {
        "id": "EWM9-JerHdR9"
      },
      "execution_count": 7,
      "outputs": []
    },
    {
      "cell_type": "markdown",
      "source": [
        "## Task 4. 각 포스트의 조회수, 하트 수 확인\n",
        "각 post_id마다 조회수, 하트 수를 확인해서 정리하시오. <br>"
      ],
      "metadata": {
        "id": "u4P8QUAvH1Fe"
      }
    },
    {
      "cell_type": "code",
      "source": [],
      "metadata": {
        "id": "n-0amTeOIbCe"
      },
      "execution_count": null,
      "outputs": []
    },
    {
      "cell_type": "markdown",
      "source": [
        "## Task 5 : 각 날짜 별 누가 접속했는지\n",
        "한국시간 별로, 각 날짜에 누가 접속했는지 확인해보시오."
      ],
      "metadata": {
        "id": "wnxSXS4BH7cZ"
      }
    },
    {
      "cell_type": "code",
      "source": [],
      "metadata": {
        "id": "VMjivJzzIb1o"
      },
      "execution_count": null,
      "outputs": []
    },
    {
      "cell_type": "markdown",
      "source": [
        "## 추가로,\n",
        "중요한 것은 다음과 같은 내용을 확인하세요.\n",
        "\n",
        "1. 몇 분에 한번씩 업데이트할 건지, 고민해보세요.\n",
        "2. logs는 계속 생성됩니다. <br> 내가 갖고 있는 데이터 이후로 수집하고, update도 본인이 이미 처리한 것 이후부터 처리해야합니다.\n",
        "3. 모든 Task에 대해서 문제가 발생했을 경우에도 문제없이 코드가 완료될 수 있도록 처리할 수 있는지 확인해보세요.\n"
      ],
      "metadata": {
        "id": "u6EWsm8oIc5j"
      }
    },
    {
      "cell_type": "markdown",
      "source": [
        "다음 주에 다 같이 모여서 동시에 코드를 실행해볼 예정입니다. <br>\n",
        "다 동일한 로그로 결과를 실행하기 때문에 결과가 동일해야겠죠?"
      ],
      "metadata": {
        "id": "NbnWZOGwJN1g"
      }
    },
    {
      "cell_type": "code",
      "source": [],
      "metadata": {
        "id": "ozwGnAAGJX06"
      },
      "execution_count": null,
      "outputs": []
    }
  ]
}